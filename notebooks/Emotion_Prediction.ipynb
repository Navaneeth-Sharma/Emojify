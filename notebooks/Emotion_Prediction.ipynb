{
  "nbformat": 4,
  "nbformat_minor": 0,
  "metadata": {
    "colab": {
      "name": "Emotion Prediction.ipynb",
      "provenance": [],
      "collapsed_sections": []
    },
    "kernelspec": {
      "name": "python3",
      "display_name": "Python 3"
    },
    "language_info": {
      "name": "python"
    },
    "accelerator": "GPU"
  },
  "cells": [
    {
      "cell_type": "markdown",
      "source": [
        "# Emotion Prediction"
      ],
      "metadata": {
        "id": "mXz9QPWlcLpP"
      }
    },
    {
      "cell_type": "markdown",
      "source": [
        "### Download the data"
      ],
      "metadata": {
        "id": "sWeAyr2Ne0F7"
      }
    },
    {
      "cell_type": "code",
      "execution_count": null,
      "metadata": {
        "id": "yGqUvzyFbY0-"
      },
      "outputs": [],
      "source": [
        "from google.colab import files\n",
        "files.upload() # upload kaggle.json file\n",
        "!mkdir -p ~/.kaggle\n",
        "!mv kaggle.json ~/.kaggle/\n",
        "!ls ~/.kaggle\n",
        "!chmod 600 /root/.kaggle/kaggle.json\n",
        "!kaggle datasets download -d msambare/fer2013\n",
        "!mkdir data\n",
        "!mv /content/fer2013.zip data/fer2013.zip\n",
        "!unzip /content/data/fer2013.zip -d data/"
      ]
    },
    {
      "cell_type": "markdown",
      "source": [
        "### Import relevent libraries"
      ],
      "metadata": {
        "id": "QBvUEWyBe2Rj"
      }
    },
    {
      "cell_type": "code",
      "source": [
        "import torch\n",
        "import torchvision\n",
        "import torch.nn as nn\n",
        "import torch.nn.functional as F\n",
        "from torchvision import transforms, models, datasets\n",
        "import numpy as np, pandas as pd, os, glob, cv2\n",
        "from torch.utils.data import TensorDataset, DataLoader, Dataset\n",
        "import matplotlib.pyplot as plt\n",
        "from torchsummary import summary\n",
        "\n",
        "device = 'cuda' if torch.cuda.is_available() else 'cpu'"
      ],
      "metadata": {
        "id": "h9G90AeCcrp5"
      },
      "execution_count": null,
      "outputs": []
    },
    {
      "cell_type": "code",
      "source": [
        "from google.colab import drive\n",
        "drive.mount('/content/drive')"
      ],
      "metadata": {
        "colab": {
          "base_uri": "https://localhost:8080/"
        },
        "id": "XNQ5kkZbtvfk",
        "outputId": "249e6b62-f741-4e55-99d1-9382f9bd9b8e"
      },
      "execution_count": null,
      "outputs": [
        {
          "output_type": "stream",
          "name": "stdout",
          "text": [
            "Mounted at /content/drive\n"
          ]
        }
      ]
    },
    {
      "cell_type": "markdown",
      "source": [
        "### Data Loader and Dataset "
      ],
      "metadata": {
        "id": "SRAQlQM0f9KE"
      }
    },
    {
      "cell_type": "code",
      "source": [
        "img = cv2.imread('/content/data/train/happy/Training_10019449.jpg')\n",
        "plt.imshow(img)"
      ],
      "metadata": {
        "colab": {
          "base_uri": "https://localhost:8080/",
          "height": 285
        },
        "id": "REIJH49YgXIE",
        "outputId": "a00c88d9-cc17-4d56-d22d-6d3ca7f9723a"
      },
      "execution_count": null,
      "outputs": [
        {
          "output_type": "execute_result",
          "data": {
            "text/plain": [
              "<matplotlib.image.AxesImage at 0x7f464ac7cd90>"
            ]
          },
          "metadata": {},
          "execution_count": 4
        },
        {
          "output_type": "display_data",
          "data": {
            "text/plain": [
              "<Figure size 432x288 with 1 Axes>"
            ],
            "image/png": "[encoded data removed]"
          },
          "metadata": {
            "needs_background": "light"
          }
        }
      ]
    },
    {
      "cell_type": "code",
      "source": [
        "trn_df = pd.DataFrame(columns=['file', 'label'])\n",
        "\n",
        "folders = glob.glob('/content/data/train/*')\n",
        "for fol in folders:\n",
        "    for fil in glob.glob(fol+'/*'):\n",
        "        df_tmp = pd.DataFrame([(fil, fil.split('/')[4])], columns=['file', 'label'])\n",
        "        trn_df = trn_df.append(df_tmp)\n"
      ],
      "metadata": {
        "id": "WLvoSHQniO-V"
      },
      "execution_count": null,
      "outputs": []
    },
    {
      "cell_type": "code",
      "source": [
        "trn_df"
      ],
      "metadata": {
        "colab": {
          "base_uri": "https://localhost:8080/",
          "height": 423
        },
        "id": "-bcAv0JCisi2",
        "outputId": "0e54a31e-11c4-4ce2-8600-31e53911988e"
      },
      "execution_count": null,
      "outputs": [
        {
          "output_type": "execute_result",
          "data": {
            "text/plain": [
              "                                                 file    label\n",
              "0   /content/data/train/neutral/Training_16301547.jpg  neutral\n",
              "0   /content/data/train/neutral/Training_78375365.jpg  neutral\n",
              "0   /content/data/train/neutral/Training_57111186.jpg  neutral\n",
              "0   /content/data/train/neutral/Training_21066615.jpg  neutral\n",
              "0   /content/data/train/neutral/Training_26611783.jpg  neutral\n",
              "..                                                ...      ...\n",
              "0       /content/data/train/sad/Training_98534980.jpg      sad\n",
              "0        /content/data/train/sad/Training_7360259.jpg      sad\n",
              "0       /content/data/train/sad/Training_36386615.jpg      sad\n",
              "0       /content/data/train/sad/Training_51565493.jpg      sad\n",
              "0       /content/data/train/sad/Training_28655050.jpg      sad\n",
              "\n",
              "[28709 rows x 2 columns]"
            ],
            "text/html": [
              "\n",
              "  <div id=\"df-77b13e8c-93d8-44ab-8c26-c7de18345c95\">\n",
              "    <div class=\"colab-df-container\">\n",
              "      <div>\n",
              "<style scoped>\n",
              "    .dataframe tbody tr th:only-of-type {\n",
              "        vertical-align: middle;\n",
              "    }\n",
              "\n",
              "    .dataframe tbody tr th {\n",
              "        vertical-align: top;\n",
              "    }\n",
              "\n",
              "    .dataframe thead th {\n",
              "        text-align: right;\n",
              "    }\n",
              "</style>\n",
              "<table border=\"1\" class=\"dataframe\">\n",
              "  <thead>\n",
              "    <tr style=\"text-align: right;\">\n",
              "      <th></th>\n",
              "      <th>file</th>\n",
              "      <th>label</th>\n",
              "    </tr>\n",
              "  </thead>\n",
              "  <tbody>\n",
              "    <tr>\n",
              "      <th>0</th>\n",
              "      <td>/content/data/train/neutral/Training_16301547.jpg</td>\n",
              "      <td>neutral</td>\n",
              "    </tr>\n",
              "    <tr>\n",
              "      <th>0</th>\n",
              "      <td>/content/data/train/neutral/Training_78375365.jpg</td>\n",
              "      <td>neutral</td>\n",
              "    </tr>\n",
              "    <tr>\n",
              "      <th>0</th>\n",
              "      <td>/content/data/train/neutral/Training_57111186.jpg</td>\n",
              "      <td>neutral</td>\n",
              "    </tr>\n",
              "    <tr>\n",
              "      <th>0</th>\n",
              "      <td>/content/data/train/neutral/Training_21066615.jpg</td>\n",
              "      <td>neutral</td>\n",
              "    </tr>\n",
              "    <tr>\n",
              "      <th>0</th>\n",
              "      <td>/content/data/train/neutral/Training_26611783.jpg</td>\n",
              "      <td>neutral</td>\n",
              "    </tr>\n",
              "    <tr>\n",
              "      <th>...</th>\n",
              "      <td>...</td>\n",
              "      <td>...</td>\n",
              "    </tr>\n",
              "    <tr>\n",
              "      <th>0</th>\n",
              "      <td>/content/data/train/sad/Training_98534980.jpg</td>\n",
              "      <td>sad</td>\n",
              "    </tr>\n",
              "    <tr>\n",
              "      <th>0</th>\n",
              "      <td>/content/data/train/sad/Training_7360259.jpg</td>\n",
              "      <td>sad</td>\n",
              "    </tr>\n",
              "    <tr>\n",
              "      <th>0</th>\n",
              "      <td>/content/data/train/sad/Training_36386615.jpg</td>\n",
              "      <td>sad</td>\n",
              "    </tr>\n",
              "    <tr>\n",
              "      <th>0</th>\n",
              "      <td>/content/data/train/sad/Training_51565493.jpg</td>\n",
              "      <td>sad</td>\n",
              "    </tr>\n",
              "    <tr>\n",
              "      <th>0</th>\n",
              "      <td>/content/data/train/sad/Training_28655050.jpg</td>\n",
              "      <td>sad</td>\n",
              "    </tr>\n",
              "  </tbody>\n",
              "</table>\n",
              "<p>28709 rows × 2 columns</p>\n",
              "</div>\n",
              "      <button class=\"colab-df-convert\" onclick=\"convertToInteractive('df-77b13e8c-93d8-44ab-8c26-c7de18345c95')\"\n",
              "              title=\"Convert this dataframe to an interactive table.\"\n",
              "              style=\"display:none;\">\n",
              "        \n",
              "  <svg xmlns=\"http://www.w3.org/2000/svg\" height=\"24px\"viewBox=\"0 0 24 24\"\n",
              "       width=\"24px\">\n",
              "    <path d=\"M0 0h24v24H0V0z\" fill=\"none\"/>\n",
              "    <path d=\"M18.56 5.44l.94 2.06.94-2.06 2.06-.94-2.06-.94-.94-2.06-.94 2.06-2.06.94zm-11 1L8.5 8.5l.94-2.06 2.06-.94-2.06-.94L8.5 2.5l-.94 2.06-2.06.94zm10 10l.94 2.06.94-2.06 2.06-.94-2.06-.94-.94-2.06-.94 2.06-2.06.94z\"/><path d=\"M17.41 7.96l-1.37-1.37c-.4-.4-.92-.59-1.43-.59-.52 0-1.04.2-1.43.59L10.3 9.45l-7.72 7.72c-.78.78-.78 2.05 0 2.83L4 21.41c.39.39.9.59 1.41.59.51 0 1.02-.2 1.41-.59l7.78-7.78 2.81-2.81c.8-.78.8-2.07 0-2.86zM5.41 20L4 18.59l7.72-7.72 1.47 1.35L5.41 20z\"/>\n",
              "  </svg>\n",
              "      </button>\n",
              "      \n",
              "  <style>\n",
              "    .colab-df-container {\n",
              "      display:flex;\n",
              "      flex-wrap:wrap;\n",
              "      gap: 12px;\n",
              "    }\n",
              "\n",
              "    .colab-df-convert {\n",
              "      background-color: #E8F0FE;\n",
              "      border: none;\n",
              "      border-radius: 50%;\n",
              "      cursor: pointer;\n",
              "      display: none;\n",
              "      fill: #1967D2;\n",
              "      height: 32px;\n",
              "      padding: 0 0 0 0;\n",
              "      width: 32px;\n",
              "    }\n",
              "\n",
              "    .colab-df-convert:hover {\n",
              "      background-color: #E2EBFA;\n",
              "      box-shadow: 0px 1px 2px rgba(60, 64, 67, 0.3), 0px 1px 3px 1px rgba(60, 64, 67, 0.15);\n",
              "      fill: #174EA6;\n",
              "    }\n",
              "\n",
              "    [theme=dark] .colab-df-convert {\n",
              "      background-color: #3B4455;\n",
              "      fill: #D2E3FC;\n",
              "    }\n",
              "\n",
              "    [theme=dark] .colab-df-convert:hover {\n",
              "      background-color: #434B5C;\n",
              "      box-shadow: 0px 1px 3px 1px rgba(0, 0, 0, 0.15);\n",
              "      filter: drop-shadow(0px 1px 2px rgba(0, 0, 0, 0.3));\n",
              "      fill: #FFFFFF;\n",
              "    }\n",
              "  </style>\n",
              "\n",
              "      <script>\n",
              "        const buttonEl =\n",
              "          document.querySelector('#df-77b13e8c-93d8-44ab-8c26-c7de18345c95 button.colab-df-convert');\n",
              "        buttonEl.style.display =\n",
              "          google.colab.kernel.accessAllowed ? 'block' : 'none';\n",
              "\n",
              "        async function convertToInteractive(key) {\n",
              "          const element = document.querySelector('#df-77b13e8c-93d8-44ab-8c26-c7de18345c95');\n",
              "          const dataTable =\n",
              "            await google.colab.kernel.invokeFunction('convertToInteractive',\n",
              "                                                     [key], {});\n",
              "          if (!dataTable) return;\n",
              "\n",
              "          const docLinkHtml = 'Like what you see? Visit the ' +\n",
              "            '<a target=\"_blank\" href=https://colab.research.google.com/notebooks/data_table.ipynb>data table notebook</a>'\n",
              "            + ' to learn more about interactive tables.';\n",
              "          element.innerHTML = '';\n",
              "          dataTable['output_type'] = 'display_data';\n",
              "          await google.colab.output.renderOutput(dataTable, element);\n",
              "          const docLink = document.createElement('div');\n",
              "          docLink.innerHTML = docLinkHtml;\n",
              "          element.appendChild(docLink);\n",
              "        }\n",
              "      </script>\n",
              "    </div>\n",
              "  </div>\n",
              "  "
            ]
          },
          "metadata": {},
          "execution_count": 6
        }
      ]
    },
    {
      "cell_type": "code",
      "source": [
        "TRAIN_DATA_PATH = \"/content/data/train\"\n",
        "dataset = datasets.ImageFolder(TRAIN_DATA_PATH, transform=transforms.ToTensor())"
      ],
      "metadata": {
        "id": "DBNFVCvBmvfY"
      },
      "execution_count": null,
      "outputs": []
    },
    {
      "cell_type": "code",
      "source": [
        "class EmotionDataset(Dataset):\n",
        "    def __init__(self, df, transform=None, IMAGE_SIZE=48):\n",
        "        self.df = df\n",
        "        self.label_dict = self.labelize(df)\n",
        "        self.IMAGE_SIZE = IMAGE_SIZE\n",
        "    \n",
        "    def __len__(self):\n",
        "        return len(self.df)    \n",
        "    \n",
        "    def __getitem__(self, idx):\n",
        "        f = self.df.iloc[idx].squeeze()\n",
        "        file = f.file\n",
        "        label = self.label_dict[f.label]\n",
        "\n",
        "        img = cv2.imread(file)\n",
        "        img = cv2.cvtColor(img, cv2.COLOR_BGR2GRAY)\n",
        "        return img, label\n",
        "\n",
        "    def preprocess_image(self, img):\n",
        "        im = cv2.resize(img, (self.IMAGE_SIZE, self.IMAGE_SIZE))\n",
        "        im = torch.tensor(im)\n",
        "        im = im/255.\n",
        "        return im[None]\n",
        "\n",
        "    def collate_fn(self, batch):\n",
        "        '''\n",
        "        preprocess images, emotion labels\n",
        "        '''\n",
        "        imgs, labels = [], []\n",
        "        for im, label in batch:\n",
        "\n",
        "            im = self.preprocess_image(im)\n",
        "            imgs.append(im)\n",
        "            \n",
        "            labels.append(float(label))\n",
        "        \n",
        "        labels = torch.tensor(labels).to(device).float()\n",
        "        imgs = torch.cat(imgs).to(device)\n",
        "        imgs = imgs.view(-1,1,48,48)\n",
        "        \n",
        "        return imgs, labels\n",
        "\n",
        "\n",
        "    def labelize(self, df):\n",
        "        label_dict = {}\n",
        "        for i,name in enumerate(df.label.unique()):\n",
        "            label_dict[name] = i\n",
        "        return label_dict\n",
        "  \n",
        "trn = EmotionDataset(trn_df)\n"
      ],
      "metadata": {
        "id": "oG6QEtOAm3vs"
      },
      "execution_count": null,
      "outputs": []
    },
    {
      "cell_type": "code",
      "source": [
        "train_loader = DataLoader(trn, batch_size=32, shuffle=True, \\\n",
        "                          drop_last=True, collate_fn=trn.collate_fn)"
      ],
      "metadata": {
        "id": "ISwvpGVHf8ot"
      },
      "execution_count": null,
      "outputs": []
    },
    {
      "cell_type": "code",
      "source": [
        "img, lab = next(iter(train_loader))\n",
        "print(img.shape, lab.shape)"
      ],
      "metadata": {
        "colab": {
          "base_uri": "https://localhost:8080/"
        },
        "id": "MxJ7_F4qdcBM",
        "outputId": "97c415ea-5df8-4ef5-b067-57bae52f97b8"
      },
      "execution_count": null,
      "outputs": [
        {
          "output_type": "stream",
          "name": "stdout",
          "text": [
            "torch.Size([32, 1, 48, 48]) torch.Size([32])\n"
          ]
        }
      ]
    },
    {
      "cell_type": "markdown",
      "source": [
        "### Build Model"
      ],
      "metadata": {
        "id": "QfZ61wBAyWnA"
      }
    },
    {
      "cell_type": "code",
      "source": [
        "class EmotionClassifier(nn.Module):\n",
        "    def __init__(self):\n",
        "        super(EmotionClassifier, self).__init__()\n",
        "\n",
        "        self.core_layer_1 = nn.Sequential(\n",
        "            nn.Conv2d(1, 64, kernel_size=3),\n",
        "            nn.ReLU(),\n",
        "            nn.BatchNorm2d(64),\n",
        "\n",
        "            nn.Conv2d(64, 64, kernel_size=3),\n",
        "            nn.ReLU(),\n",
        "            nn.BatchNorm2d(64),\n",
        "\n",
        "            nn.Conv2d(64, 32, kernel_size=3),\n",
        "            nn.ReLU(),\n",
        "            nn.BatchNorm2d(32),\n",
        "\n",
        "            nn.MaxPool2d(2),\n",
        "            nn.Dropout(0.2)\n",
        "        )\n",
        "\n",
        "        self.core_layer_2 = nn.Sequential(\n",
        "            nn.Conv2d(32, 64, kernel_size=3),\n",
        "            nn.ReLU(),\n",
        "            nn.BatchNorm2d(64),\n",
        "\n",
        "            nn.Conv2d(64, 32, kernel_size=3),\n",
        "            nn.ReLU(),\n",
        "            nn.BatchNorm2d(32),\n",
        "\n",
        "            nn.MaxPool2d(2),\n",
        "            nn.Dropout(0.2),\n",
        "            \n",
        "        )\n",
        "\n",
        "        self.dense_layer = nn.Sequential(\n",
        "            nn.Flatten(),\n",
        "\n",
        "            nn.Linear(2048, 2048),\n",
        "            nn.ReLU(),\n",
        "            nn.BatchNorm1d(2048),\n",
        "            nn.Dropout(0.2),\n",
        "\n",
        "            nn.Linear(2048, 1024),\n",
        "            nn.ReLU(),\n",
        "            nn.BatchNorm1d(1024),\n",
        "            nn.Dropout(0.2),\n",
        "\n",
        "            nn.Linear(1024, 512),\n",
        "            nn.ReLU(),\n",
        "            nn.BatchNorm1d(512),\n",
        "            nn.Dropout(0.2),\n",
        "\n",
        "            nn.Linear(512, 64),\n",
        "            nn.ReLU(),\n",
        "            nn.BatchNorm1d(64),\n",
        "            nn.Dropout(0.2),\n",
        "\n",
        "            nn.Linear(64, 32),\n",
        "            nn.ReLU(),\n",
        "            nn.BatchNorm1d(32),\n",
        "            nn.Dropout(0.2),\n",
        "\n",
        "            nn.Linear(32, 7),\n",
        "            nn.ReLU(),\n",
        "        )\n",
        "\n",
        "    def forward(self, x):\n",
        "        x = self.core_layer_1(x)\n",
        "        x = self.core_layer_2(x)\n",
        "        x = self.dense_layer(x)\n",
        "        return x\n",
        "\n",
        "model = EmotionClassifier()\n",
        "\n",
        "x = torch.zeros(1, 48, 48)\n",
        "print(x.shape)\n",
        "summary(model.to(device), x.to(device).shape)"
      ],
      "metadata": {
        "colab": {
          "base_uri": "https://localhost:8080/"
        },
        "id": "HY6iu6FEdtp2",
        "outputId": "647388be-00eb-4795-ac64-9613298dcc87"
      },
      "execution_count": null,
      "outputs": [
        {
          "output_type": "stream",
          "name": "stdout",
          "text": [
            "torch.Size([1, 48, 48])\n",
            "----------------------------------------------------------------\n",
            "        Layer (type)               Output Shape         Param #\n",
            "================================================================\n",
            "            Conv2d-1           [-1, 64, 46, 46]             640\n",
            "              ReLU-2           [-1, 64, 46, 46]               0\n",
            "       BatchNorm2d-3           [-1, 64, 46, 46]             128\n",
            "            Conv2d-4           [-1, 64, 44, 44]          36,928\n",
            "              ReLU-5           [-1, 64, 44, 44]               0\n",
            "       BatchNorm2d-6           [-1, 64, 44, 44]             128\n",
            "            Conv2d-7           [-1, 32, 42, 42]          18,464\n",
            "              ReLU-8           [-1, 32, 42, 42]               0\n",
            "       BatchNorm2d-9           [-1, 32, 42, 42]              64\n",
            "        MaxPool2d-10           [-1, 32, 21, 21]               0\n",
            "          Dropout-11           [-1, 32, 21, 21]               0\n",
            "           Conv2d-12           [-1, 64, 19, 19]          18,496\n",
            "             ReLU-13           [-1, 64, 19, 19]               0\n",
            "      BatchNorm2d-14           [-1, 64, 19, 19]             128\n",
            "           Conv2d-15           [-1, 32, 17, 17]          18,464\n",
            "             ReLU-16           [-1, 32, 17, 17]               0\n",
            "      BatchNorm2d-17           [-1, 32, 17, 17]              64\n",
            "        MaxPool2d-18             [-1, 32, 8, 8]               0\n",
            "          Dropout-19             [-1, 32, 8, 8]               0\n",
            "          Flatten-20                 [-1, 2048]               0\n",
            "           Linear-21                 [-1, 2048]       4,196,352\n",
            "             ReLU-22                 [-1, 2048]               0\n",
            "      BatchNorm1d-23                 [-1, 2048]           4,096\n",
            "          Dropout-24                 [-1, 2048]               0\n",
            "           Linear-25                 [-1, 1024]       2,098,176\n",
            "             ReLU-26                 [-1, 1024]               0\n",
            "      BatchNorm1d-27                 [-1, 1024]           2,048\n",
            "          Dropout-28                 [-1, 1024]               0\n",
            "           Linear-29                  [-1, 512]         524,800\n",
            "             ReLU-30                  [-1, 512]               0\n",
            "      BatchNorm1d-31                  [-1, 512]           1,024\n",
            "          Dropout-32                  [-1, 512]               0\n",
            "           Linear-33                   [-1, 64]          32,832\n",
            "             ReLU-34                   [-1, 64]               0\n",
            "      BatchNorm1d-35                   [-1, 64]             128\n",
            "          Dropout-36                   [-1, 64]               0\n",
            "           Linear-37                   [-1, 32]           2,080\n",
            "             ReLU-38                   [-1, 32]               0\n",
            "      BatchNorm1d-39                   [-1, 32]              64\n",
            "          Dropout-40                   [-1, 32]               0\n",
            "           Linear-41                    [-1, 7]             231\n",
            "             ReLU-42                    [-1, 7]               0\n",
            "================================================================\n",
            "Total params: 6,955,335\n",
            "Trainable params: 6,955,335\n",
            "Non-trainable params: 0\n",
            "----------------------------------------------------------------\n",
            "Input size (MB): 0.01\n",
            "Forward/backward pass size (MB): 8.34\n",
            "Params size (MB): 26.53\n",
            "Estimated Total Size (MB): 34.88\n",
            "----------------------------------------------------------------\n"
          ]
        }
      ]
    },
    {
      "cell_type": "code",
      "source": [
        "def get_model():\n",
        "    model = EmotionClassifier()\n",
        "\n",
        "    criterion = nn.CrossEntropyLoss()\n",
        "\n",
        "    loss_fn = criterion\n",
        "\n",
        "    optimizer = torch.optim.Adam(model.parameters(),lr= 1e-4)\n",
        "    return model.to(device), loss_fn, optimizer"
      ],
      "metadata": {
        "id": "JaOyo5a8mnbC"
      },
      "execution_count": null,
      "outputs": []
    },
    {
      "cell_type": "code",
      "source": [
        "model, criterion, optimizer = get_model()"
      ],
      "metadata": {
        "id": "K4YMyUaY2pVl"
      },
      "execution_count": null,
      "outputs": []
    },
    {
      "cell_type": "code",
      "source": [
        "def train_batch(data, model, optimizer, criteria):\n",
        "    model.train()\n",
        "    imgs, labels = data\n",
        "\n",
        "    imgs = imgs.to(device)\n",
        "    labels = labels.type(torch.LongTensor)\n",
        "    labels = labels.to(device)\n",
        "\n",
        "    optimizer.zero_grad()\n",
        "    pred_label = model(imgs)\n",
        "\n",
        "    # for future use\n",
        "    criterion = criteria(pred_label, labels)\n",
        "\n",
        "    criterion.backward()\n",
        "    optimizer.step()\n",
        "\n",
        "    return criterion\n",
        "\n",
        "def validate_batch(data, model, criteria):\n",
        "    model.eval()\n",
        "\n",
        "    imgs, labels = data\n",
        "\n",
        "    imgs = imgs.to(device)\n",
        "    labels = labels.type(torch.LongTensor)\n",
        "    labels = labels.to(device)\n",
        "\n",
        "    with torch.no_grad():\n",
        "        pred_label = model(imgs)\n",
        "\n",
        "    criterion = criteria(pred_label, labels.type(torch.LongTensor))\n",
        "    \n",
        "    return criterion"
      ],
      "metadata": {
        "id": "_CtWlTh52qA5"
      },
      "execution_count": null,
      "outputs": []
    },
    {
      "cell_type": "code",
      "source": [
        "import time\n",
        "from tqdm import tqdm\n",
        "from tqdm import trange \n",
        "\n",
        "model, criteria, optimizer = get_model()\n",
        "\n",
        "train_losses = []\n",
        "\n",
        "val_losses = []\n",
        "n_epochs = 100\n",
        "best_test_loss = 1000\n",
        "start = time.time()\n",
        "\n",
        "for epoch in trange(n_epochs, desc=\"Epoch : \"):\n",
        "\n",
        "    epoch_train_loss, epoch_test_loss = 0, 0\n",
        "    ctr = 0\n",
        "    _n = len(train_loader)\n",
        "\n",
        "    for ix, data in enumerate(tqdm(train_loader, position=0, leave=True)):\n",
        "        loss = train_batch(data, model, optimizer, criteria)\n",
        "        epoch_train_loss += loss.item()\n",
        "    \n",
        "    # for ix, data in enumerate(tqdm(test_loader, position=0, leave=True)):\n",
        "    #     loss, gender_acc, age_mae = validate_batch(data, model, criteria)\n",
        "    #     epoch_test_loss += loss.item()\n",
        "    #     val_age_mae += age_mae\n",
        "    #     val_gender_acc += gender_acc\n",
        "    #     ctr += len(data[0])\n",
        "    \n",
        "    epoch_train_loss /= len(train_loader)\n",
        "    # epoch_test_loss /= len(test_loader)\n",
        "\n",
        "\n",
        "    elapsed = time.time()-start\n",
        "    best_test_loss = min(best_test_loss, epoch_test_loss)\n",
        "    print('{}/{} ({:.2f}s - {:.2f}s remaining)'.format(\\\n",
        "    epoch+1, n_epochs, time.time()-start, \\\n",
        "    (n_epochs-epoch)*(elapsed/(epoch+1))))\n",
        "    info = f'''Epoch: {epoch+1:03d}\\\n",
        "    \\tTrain Loss: {epoch_train_loss:.3f}\n",
        "    \\tTest:{epoch_test_loss:.3f}\n",
        "    \\tBest Test Loss: {best_test_loss:.4f}'''\n",
        "\n",
        "    # info += f'\\nGender Accuracy:\\\n",
        "    # {val_gender_acc*100:.2f}%\\tAge MAE: \\\n",
        "    # {val_age_mae:.2f}\\n'\n",
        "\n",
        "    print(info)\n",
        "\n"
      ],
      "metadata": {
        "id": "E2u5lynr3CkS",
        "colab": {
          "base_uri": "https://localhost:8080/"
        },
        "outputId": "442ce9f5-ee07-4295-9887-fdf8c6ab082d"
      },
      "execution_count": null,
      "outputs": [
        {
          "output_type": "stream",
          "name": "stderr",
          "text": [
            "100%|██████████| 897/897 [00:47<00:00, 19.08it/s]\n",
            "Epoch :   1%|          | 1/100 [00:47<1:17:33, 47.01s/it]"
          ]
        },
        {
          "output_type": "stream",
          "name": "stdout",
          "text": [
            "1/100 (47.02s - 4701.60s remaining)\n",
            "Epoch: 001    \tTrain Loss: 1.835\n",
            "    \tTest:0.000\n",
            "    \tBest Test Loss: 0.0000\n"
          ]
        },
        {
          "output_type": "stream",
          "name": "stderr",
          "text": [
            "100%|██████████| 897/897 [00:44<00:00, 19.94it/s]\n",
            "Epoch :   2%|▏         | 2/100 [01:31<1:14:50, 45.82s/it]"
          ]
        },
        {
          "output_type": "stream",
          "name": "stdout",
          "text": [
            "2/100 (92.00s - 4554.12s remaining)\n",
            "Epoch: 002    \tTrain Loss: 1.646\n",
            "    \tTest:0.000\n",
            "    \tBest Test Loss: 0.0000\n"
          ]
        },
        {
          "output_type": "stream",
          "name": "stderr",
          "text": [
            "100%|██████████| 897/897 [00:44<00:00, 20.01it/s]\n",
            "Epoch :   3%|▎         | 3/100 [02:16<1:13:20, 45.37s/it]"
          ]
        },
        {
          "output_type": "stream",
          "name": "stdout",
          "text": [
            "3/100 (136.84s - 4470.09s remaining)\n",
            "Epoch: 003    \tTrain Loss: 1.545\n",
            "    \tTest:0.000\n",
            "    \tBest Test Loss: 0.0000\n"
          ]
        },
        {
          "output_type": "stream",
          "name": "stderr",
          "text": [
            "100%|██████████| 897/897 [00:44<00:00, 19.95it/s]\n",
            "Epoch :   4%|▍         | 4/100 [03:01<1:12:20, 45.21s/it]"
          ]
        },
        {
          "output_type": "stream",
          "name": "stdout",
          "text": [
            "4/100 (181.81s - 4408.85s remaining)\n",
            "Epoch: 004    \tTrain Loss: 1.458\n",
            "    \tTest:0.000\n",
            "    \tBest Test Loss: 0.0000\n"
          ]
        },
        {
          "output_type": "stream",
          "name": "stderr",
          "text": [
            "100%|██████████| 897/897 [00:44<00:00, 20.07it/s]\n",
            "Epoch :   5%|▌         | 5/100 [03:46<1:11:17, 45.03s/it]"
          ]
        },
        {
          "output_type": "stream",
          "name": "stdout",
          "text": [
            "5/100 (226.51s - 4348.99s remaining)\n",
            "Epoch: 005    \tTrain Loss: 1.396\n",
            "    \tTest:0.000\n",
            "    \tBest Test Loss: 0.0000\n"
          ]
        },
        {
          "output_type": "stream",
          "name": "stderr",
          "text": [
            "100%|██████████| 897/897 [00:44<00:00, 20.03it/s]\n",
            "Epoch :   6%|▌         | 6/100 [04:31<1:10:25, 44.95s/it]"
          ]
        },
        {
          "output_type": "stream",
          "name": "stdout",
          "text": [
            "6/100 (271.30s - 4295.57s remaining)\n",
            "Epoch: 006    \tTrain Loss: 1.337\n",
            "    \tTest:0.000\n",
            "    \tBest Test Loss: 0.0000\n"
          ]
        },
        {
          "output_type": "stream",
          "name": "stderr",
          "text": [
            "100%|██████████| 897/897 [00:44<00:00, 20.03it/s]\n",
            "Epoch :   7%|▋         | 7/100 [05:16<1:09:35, 44.90s/it]"
          ]
        },
        {
          "output_type": "stream",
          "name": "stdout",
          "text": [
            "7/100 (316.10s - 4244.72s remaining)\n",
            "Epoch: 007    \tTrain Loss: 1.284\n",
            "    \tTest:0.000\n",
            "    \tBest Test Loss: 0.0000\n"
          ]
        },
        {
          "output_type": "stream",
          "name": "stderr",
          "text": [
            "100%|██████████| 897/897 [00:44<00:00, 20.11it/s]\n",
            "Epoch :   8%|▊         | 8/100 [06:00<1:08:42, 44.81s/it]"
          ]
        },
        {
          "output_type": "stream",
          "name": "stdout",
          "text": [
            "8/100 (360.73s - 4193.44s remaining)\n",
            "Epoch: 008    \tTrain Loss: 1.246\n",
            "    \tTest:0.000\n",
            "    \tBest Test Loss: 0.0000\n"
          ]
        },
        {
          "output_type": "stream",
          "name": "stderr",
          "text": [
            "100%|██████████| 897/897 [00:44<00:00, 20.10it/s]\n",
            "Epoch :   9%|▉         | 9/100 [06:45<1:07:53, 44.76s/it]"
          ]
        },
        {
          "output_type": "stream",
          "name": "stdout",
          "text": [
            "9/100 (405.37s - 4143.80s remaining)\n",
            "Epoch: 009    \tTrain Loss: 1.196\n",
            "    \tTest:0.000\n",
            "    \tBest Test Loss: 0.0000\n"
          ]
        },
        {
          "output_type": "stream",
          "name": "stderr",
          "text": [
            "100%|██████████| 897/897 [00:44<00:00, 19.95it/s]\n",
            "Epoch :  10%|█         | 10/100 [07:30<1:07:14, 44.82s/it]"
          ]
        },
        {
          "output_type": "stream",
          "name": "stdout",
          "text": [
            "10/100 (450.33s - 4098.05s remaining)\n",
            "Epoch: 010    \tTrain Loss: 1.146\n",
            "    \tTest:0.000\n",
            "    \tBest Test Loss: 0.0000\n"
          ]
        },
        {
          "output_type": "stream",
          "name": "stderr",
          "text": [
            "100%|██████████| 897/897 [00:45<00:00, 19.80it/s]\n",
            "Epoch :  11%|█         | 11/100 [08:15<1:06:42, 44.98s/it]"
          ]
        },
        {
          "output_type": "stream",
          "name": "stdout",
          "text": [
            "11/100 (495.66s - 4055.38s remaining)\n",
            "Epoch: 011    \tTrain Loss: 1.119\n",
            "    \tTest:0.000\n",
            "    \tBest Test Loss: 0.0000\n"
          ]
        },
        {
          "output_type": "stream",
          "name": "stderr",
          "text": [
            "100%|██████████| 897/897 [00:45<00:00, 19.91it/s]\n",
            "Epoch :  12%|█▏        | 12/100 [09:00<1:06:00, 45.00s/it]"
          ]
        },
        {
          "output_type": "stream",
          "name": "stdout",
          "text": [
            "12/100 (540.72s - 4010.34s remaining)\n",
            "Epoch: 012    \tTrain Loss: 1.078\n",
            "    \tTest:0.000\n",
            "    \tBest Test Loss: 0.0000\n"
          ]
        },
        {
          "output_type": "stream",
          "name": "stderr",
          "text": [
            "100%|██████████| 897/897 [00:44<00:00, 19.98it/s]\n",
            "Epoch :  13%|█▎        | 13/100 [09:45<1:05:12, 44.97s/it]"
          ]
        },
        {
          "output_type": "stream",
          "name": "stdout",
          "text": [
            "13/100 (585.62s - 3964.20s remaining)\n",
            "Epoch: 013    \tTrain Loss: 1.038\n",
            "    \tTest:0.000\n",
            "    \tBest Test Loss: 0.0000\n"
          ]
        },
        {
          "output_type": "stream",
          "name": "stderr",
          "text": [
            "100%|██████████| 897/897 [00:44<00:00, 20.03it/s]\n",
            "Epoch :  14%|█▍        | 14/100 [10:30<1:04:22, 44.92s/it]"
          ]
        },
        {
          "output_type": "stream",
          "name": "stdout",
          "text": [
            "14/100 (630.41s - 3917.54s remaining)\n",
            "Epoch: 014    \tTrain Loss: 1.009\n",
            "    \tTest:0.000\n",
            "    \tBest Test Loss: 0.0000\n"
          ]
        },
        {
          "output_type": "stream",
          "name": "stderr",
          "text": [
            "100%|██████████| 897/897 [00:44<00:00, 20.04it/s]\n",
            "Epoch :  15%|█▌        | 15/100 [11:15<1:03:34, 44.88s/it]"
          ]
        },
        {
          "output_type": "stream",
          "name": "stdout",
          "text": [
            "15/100 (675.19s - 3871.09s remaining)\n",
            "Epoch: 015    \tTrain Loss: 0.975\n",
            "    \tTest:0.000\n",
            "    \tBest Test Loss: 0.0000\n"
          ]
        },
        {
          "output_type": "stream",
          "name": "stderr",
          "text": [
            "100%|██████████| 897/897 [00:44<00:00, 20.08it/s]\n",
            "Epoch :  16%|█▌        | 16/100 [11:59<1:02:44, 44.82s/it]"
          ]
        },
        {
          "output_type": "stream",
          "name": "stdout",
          "text": [
            "16/100 (719.87s - 3824.33s remaining)\n",
            "Epoch: 016    \tTrain Loss: 0.934\n",
            "    \tTest:0.000\n",
            "    \tBest Test Loss: 0.0000\n"
          ]
        },
        {
          "output_type": "stream",
          "name": "stderr",
          "text": [
            "100%|██████████| 897/897 [00:44<00:00, 20.15it/s]\n",
            "Epoch :  17%|█▋        | 17/100 [12:44<1:01:52, 44.73s/it]"
          ]
        },
        {
          "output_type": "stream",
          "name": "stdout",
          "text": [
            "17/100 (764.41s - 3777.10s remaining)\n",
            "Epoch: 017    \tTrain Loss: 0.901\n",
            "    \tTest:0.000\n",
            "    \tBest Test Loss: 0.0000\n"
          ]
        },
        {
          "output_type": "stream",
          "name": "stderr",
          "text": [
            "100%|██████████| 897/897 [00:44<00:00, 20.04it/s]\n",
            "Epoch :  18%|█▊        | 18/100 [13:29<1:01:08, 44.74s/it]"
          ]
        },
        {
          "output_type": "stream",
          "name": "stdout",
          "text": [
            "18/100 (809.18s - 3731.22s remaining)\n",
            "Epoch: 018    \tTrain Loss: 0.874\n",
            "    \tTest:0.000\n",
            "    \tBest Test Loss: 0.0000\n"
          ]
        },
        {
          "output_type": "stream",
          "name": "stderr",
          "text": [
            "100%|██████████| 897/897 [00:44<00:00, 20.00it/s]\n",
            "Epoch :  19%|█▉        | 19/100 [14:14<1:00:27, 44.78s/it]"
          ]
        },
        {
          "output_type": "stream",
          "name": "stdout",
          "text": [
            "19/100 (854.04s - 3685.87s remaining)\n",
            "Epoch: 019    \tTrain Loss: 0.825\n",
            "    \tTest:0.000\n",
            "    \tBest Test Loss: 0.0000\n"
          ]
        },
        {
          "output_type": "stream",
          "name": "stderr",
          "text": [
            "100%|██████████| 897/897 [00:45<00:00, 19.81it/s]\n",
            "Epoch :  20%|██        | 20/100 [14:59<59:54, 44.94s/it]  "
          ]
        },
        {
          "output_type": "stream",
          "name": "stdout",
          "text": [
            "20/100 (899.34s - 3642.33s remaining)\n",
            "Epoch: 020    \tTrain Loss: 0.802\n",
            "    \tTest:0.000\n",
            "    \tBest Test Loss: 0.0000\n"
          ]
        },
        {
          "output_type": "stream",
          "name": "stderr",
          "text": [
            "100%|██████████| 897/897 [00:44<00:00, 20.02it/s]\n",
            "Epoch :  21%|██        | 21/100 [15:44<59:07, 44.90s/it]"
          ]
        },
        {
          "output_type": "stream",
          "name": "stdout",
          "text": [
            "21/100 (944.17s - 3596.83s remaining)\n",
            "Epoch: 021    \tTrain Loss: 0.769\n",
            "    \tTest:0.000\n",
            "    \tBest Test Loss: 0.0000\n"
          ]
        },
        {
          "output_type": "stream",
          "name": "stderr",
          "text": [
            "100%|██████████| 897/897 [00:44<00:00, 20.04it/s]\n",
            "Epoch :  22%|██▏       | 22/100 [16:28<58:19, 44.86s/it]"
          ]
        },
        {
          "output_type": "stream",
          "name": "stdout",
          "text": [
            "22/100 (988.94s - 3551.20s remaining)\n",
            "Epoch: 022    \tTrain Loss: 0.741\n",
            "    \tTest:0.000\n",
            "    \tBest Test Loss: 0.0000\n"
          ]
        },
        {
          "output_type": "stream",
          "name": "stderr",
          "text": [
            "100%|██████████| 897/897 [00:44<00:00, 20.04it/s]\n",
            "Epoch :  23%|██▎       | 23/100 [17:13<57:32, 44.84s/it]"
          ]
        },
        {
          "output_type": "stream",
          "name": "stdout",
          "text": [
            "23/100 (1033.72s - 3505.66s remaining)\n",
            "Epoch: 023    \tTrain Loss: 0.718\n",
            "    \tTest:0.000\n",
            "    \tBest Test Loss: 0.0000\n"
          ]
        },
        {
          "output_type": "stream",
          "name": "stderr",
          "text": [
            "100%|██████████| 897/897 [00:45<00:00, 19.91it/s]\n",
            "Epoch :  24%|██▍       | 24/100 [17:58<56:52, 44.91s/it]"
          ]
        },
        {
          "output_type": "stream",
          "name": "stdout",
          "text": [
            "24/100 (1078.79s - 3461.11s remaining)\n",
            "Epoch: 024    \tTrain Loss: 0.680\n",
            "    \tTest:0.000\n",
            "    \tBest Test Loss: 0.0000\n"
          ]
        },
        {
          "output_type": "stream",
          "name": "stderr",
          "text": [
            "100%|██████████| 897/897 [00:44<00:00, 20.07it/s]\n",
            "Epoch :  25%|██▌       | 25/100 [18:43<56:03, 44.84s/it]"
          ]
        },
        {
          "output_type": "stream",
          "name": "stdout",
          "text": [
            "25/100 (1123.49s - 3415.40s remaining)\n",
            "Epoch: 025    \tTrain Loss: 0.661\n",
            "    \tTest:0.000\n",
            "    \tBest Test Loss: 0.0000\n"
          ]
        },
        {
          "output_type": "stream",
          "name": "stderr",
          "text": [
            "100%|██████████| 897/897 [00:44<00:00, 20.08it/s]\n",
            "Epoch :  26%|██▌       | 26/100 [19:28<55:14, 44.80s/it]"
          ]
        },
        {
          "output_type": "stream",
          "name": "stdout",
          "text": [
            "26/100 (1168.17s - 3369.72s remaining)\n",
            "Epoch: 026    \tTrain Loss: 0.632\n",
            "    \tTest:0.000\n",
            "    \tBest Test Loss: 0.0000\n"
          ]
        },
        {
          "output_type": "stream",
          "name": "stderr",
          "text": [
            "100%|██████████| 897/897 [00:44<00:00, 19.99it/s]\n",
            "Epoch :  27%|██▋       | 27/100 [20:13<54:32, 44.83s/it]"
          ]
        },
        {
          "output_type": "stream",
          "name": "stdout",
          "text": [
            "27/100 (1213.07s - 3324.70s remaining)\n",
            "Epoch: 027    \tTrain Loss: 0.616\n",
            "    \tTest:0.000\n",
            "    \tBest Test Loss: 0.0000\n"
          ]
        },
        {
          "output_type": "stream",
          "name": "stderr",
          "text": [
            "100%|██████████| 897/897 [00:44<00:00, 20.02it/s]\n",
            "Epoch :  28%|██▊       | 28/100 [20:57<53:47, 44.83s/it]"
          ]
        },
        {
          "output_type": "stream",
          "name": "stdout",
          "text": [
            "28/100 (1257.89s - 3279.51s remaining)\n",
            "Epoch: 028    \tTrain Loss: 0.586\n",
            "    \tTest:0.000\n",
            "    \tBest Test Loss: 0.0000\n"
          ]
        },
        {
          "output_type": "stream",
          "name": "stderr",
          "text": [
            "100%|██████████| 897/897 [00:45<00:00, 19.78it/s]\n",
            "Epoch :  29%|██▉       | 29/100 [21:43<53:14, 44.99s/it]"
          ]
        },
        {
          "output_type": "stream",
          "name": "stdout",
          "text": [
            "29/100 (1303.27s - 3235.71s remaining)\n",
            "Epoch: 029    \tTrain Loss: 0.573\n",
            "    \tTest:0.000\n",
            "    \tBest Test Loss: 0.0000\n"
          ]
        },
        {
          "output_type": "stream",
          "name": "stderr",
          "text": [
            "100%|██████████| 897/897 [00:44<00:00, 20.00it/s]\n",
            "Epoch :  30%|███       | 30/100 [22:28<52:26, 44.96s/it]"
          ]
        },
        {
          "output_type": "stream",
          "name": "stdout",
          "text": [
            "30/100 (1348.15s - 3190.61s remaining)\n",
            "Epoch: 030    \tTrain Loss: 0.551\n",
            "    \tTest:0.000\n",
            "    \tBest Test Loss: 0.0000\n"
          ]
        },
        {
          "output_type": "stream",
          "name": "stderr",
          "text": [
            "100%|██████████| 897/897 [00:44<00:00, 20.01it/s]\n",
            "Epoch :  31%|███       | 31/100 [23:12<51:39, 44.92s/it]"
          ]
        },
        {
          "output_type": "stream",
          "name": "stdout",
          "text": [
            "31/100 (1392.98s - 3145.45s remaining)\n",
            "Epoch: 031    \tTrain Loss: 0.521\n",
            "    \tTest:0.000\n",
            "    \tBest Test Loss: 0.0000\n"
          ]
        },
        {
          "output_type": "stream",
          "name": "stderr",
          "text": [
            "100%|██████████| 897/897 [00:44<00:00, 20.03it/s]\n",
            "Epoch :  32%|███▏      | 32/100 [23:57<50:52, 44.88s/it]"
          ]
        },
        {
          "output_type": "stream",
          "name": "stdout",
          "text": [
            "32/100 (1437.78s - 3100.21s remaining)\n",
            "Epoch: 032    \tTrain Loss: 0.511\n",
            "    \tTest:0.000\n",
            "    \tBest Test Loss: 0.0000\n"
          ]
        },
        {
          "output_type": "stream",
          "name": "stderr",
          "text": [
            "100%|██████████| 897/897 [00:44<00:00, 20.04it/s]\n",
            "Epoch :  33%|███▎      | 33/100 [24:42<50:04, 44.85s/it]"
          ]
        },
        {
          "output_type": "stream",
          "name": "stdout",
          "text": [
            "33/100 (1482.54s - 3054.93s remaining)\n",
            "Epoch: 033    \tTrain Loss: 0.479\n",
            "    \tTest:0.000\n",
            "    \tBest Test Loss: 0.0000\n"
          ]
        },
        {
          "output_type": "stream",
          "name": "stderr",
          "text": [
            "100%|██████████| 897/897 [00:45<00:00, 19.92it/s]\n",
            "Epoch :  34%|███▍      | 34/100 [25:27<49:23, 44.91s/it]"
          ]
        },
        {
          "output_type": "stream",
          "name": "stdout",
          "text": [
            "34/100 (1527.59s - 3010.26s remaining)\n",
            "Epoch: 034    \tTrain Loss: 0.470\n",
            "    \tTest:0.000\n",
            "    \tBest Test Loss: 0.0000\n"
          ]
        },
        {
          "output_type": "stream",
          "name": "stderr",
          "text": [
            "100%|██████████| 897/897 [00:44<00:00, 20.02it/s]\n",
            "Epoch :  35%|███▌      | 35/100 [26:12<48:37, 44.88s/it]"
          ]
        },
        {
          "output_type": "stream",
          "name": "stdout",
          "text": [
            "35/100 (1572.42s - 2965.13s remaining)\n",
            "Epoch: 035    \tTrain Loss: 0.475\n",
            "    \tTest:0.000\n",
            "    \tBest Test Loss: 0.0000\n"
          ]
        },
        {
          "output_type": "stream",
          "name": "stderr",
          "text": [
            "100%|██████████| 897/897 [00:44<00:00, 20.04it/s]\n",
            "Epoch :  36%|███▌      | 36/100 [26:57<47:50, 44.85s/it]"
          ]
        },
        {
          "output_type": "stream",
          "name": "stdout",
          "text": [
            "36/100 (1617.20s - 2919.94s remaining)\n",
            "Epoch: 036    \tTrain Loss: 0.441\n",
            "    \tTest:0.000\n",
            "    \tBest Test Loss: 0.0000\n"
          ]
        },
        {
          "output_type": "stream",
          "name": "stderr",
          "text": [
            "100%|██████████| 897/897 [00:45<00:00, 19.85it/s]\n",
            "Epoch :  37%|███▋      | 37/100 [27:42<47:12, 44.96s/it]"
          ]
        },
        {
          "output_type": "stream",
          "name": "stdout",
          "text": [
            "37/100 (1662.42s - 2875.53s remaining)\n",
            "Epoch: 037    \tTrain Loss: 0.434\n",
            "    \tTest:0.000\n",
            "    \tBest Test Loss: 0.0000\n"
          ]
        },
        {
          "output_type": "stream",
          "name": "stderr",
          "text": [
            "100%|██████████| 897/897 [00:45<00:00, 19.91it/s]\n",
            "Epoch :  38%|███▊      | 38/100 [28:27<46:29, 44.99s/it]"
          ]
        },
        {
          "output_type": "stream",
          "name": "stdout",
          "text": [
            "38/100 (1707.48s - 2830.83s remaining)\n",
            "Epoch: 038    \tTrain Loss: 0.415\n",
            "    \tTest:0.000\n",
            "    \tBest Test Loss: 0.0000\n"
          ]
        },
        {
          "output_type": "stream",
          "name": "stderr",
          "text": [
            "100%|██████████| 897/897 [00:44<00:00, 19.93it/s]\n",
            "Epoch :  39%|███▉      | 39/100 [29:12<45:44, 45.00s/it]"
          ]
        },
        {
          "output_type": "stream",
          "name": "stdout",
          "text": [
            "39/100 (1752.49s - 2786.01s remaining)\n",
            "Epoch: 039    \tTrain Loss: 0.411\n",
            "    \tTest:0.000\n",
            "    \tBest Test Loss: 0.0000\n"
          ]
        },
        {
          "output_type": "stream",
          "name": "stderr",
          "text": [
            "100%|██████████| 897/897 [00:44<00:00, 19.98it/s]\n",
            "Epoch :  40%|████      | 40/100 [29:57<44:58, 44.97s/it]"
          ]
        },
        {
          "output_type": "stream",
          "name": "stdout",
          "text": [
            "40/100 (1797.40s - 2741.03s remaining)\n",
            "Epoch: 040    \tTrain Loss: 0.395\n",
            "    \tTest:0.000\n",
            "    \tBest Test Loss: 0.0000\n"
          ]
        },
        {
          "output_type": "stream",
          "name": "stderr",
          "text": [
            "100%|██████████| 897/897 [00:45<00:00, 19.88it/s]\n",
            "Epoch :  41%|████      | 41/100 [30:42<44:16, 45.02s/it]"
          ]
        },
        {
          "output_type": "stream",
          "name": "stdout",
          "text": [
            "41/100 (1842.54s - 2696.40s remaining)\n",
            "Epoch: 041    \tTrain Loss: 0.392\n",
            "    \tTest:0.000\n",
            "    \tBest Test Loss: 0.0000\n"
          ]
        },
        {
          "output_type": "stream",
          "name": "stderr",
          "text": [
            "100%|██████████| 897/897 [00:44<00:00, 20.01it/s]\n",
            "Epoch :  42%|████▏     | 42/100 [31:27<43:28, 44.97s/it]"
          ]
        },
        {
          "output_type": "stream",
          "name": "stdout",
          "text": [
            "42/100 (1887.39s - 2651.33s remaining)\n",
            "Epoch: 042    \tTrain Loss: 0.384\n",
            "    \tTest:0.000\n",
            "    \tBest Test Loss: 0.0000\n"
          ]
        },
        {
          "output_type": "stream",
          "name": "stderr",
          "text": [
            "100%|██████████| 897/897 [00:44<00:00, 19.96it/s]\n",
            "Epoch :  43%|████▎     | 43/100 [32:12<42:42, 44.96s/it]"
          ]
        },
        {
          "output_type": "stream",
          "name": "stdout",
          "text": [
            "43/100 (1932.34s - 2606.41s remaining)\n",
            "Epoch: 043    \tTrain Loss: 0.358\n",
            "    \tTest:0.000\n",
            "    \tBest Test Loss: 0.0000\n"
          ]
        },
        {
          "output_type": "stream",
          "name": "stderr",
          "text": [
            "100%|██████████| 897/897 [00:45<00:00, 19.79it/s]\n",
            "Epoch :  44%|████▍     | 44/100 [32:57<42:04, 45.08s/it]"
          ]
        },
        {
          "output_type": "stream",
          "name": "stdout",
          "text": [
            "44/100 (1977.67s - 2561.99s remaining)\n",
            "Epoch: 044    \tTrain Loss: 0.351\n",
            "    \tTest:0.000\n",
            "    \tBest Test Loss: 0.0000\n"
          ]
        },
        {
          "output_type": "stream",
          "name": "stderr",
          "text": [
            "100%|██████████| 897/897 [00:45<00:00, 19.83it/s]\n",
            "Epoch :  45%|████▌     | 45/100 [33:42<41:22, 45.13s/it]"
          ]
        },
        {
          "output_type": "stream",
          "name": "stdout",
          "text": [
            "45/100 (2022.92s - 2517.42s remaining)\n",
            "Epoch: 045    \tTrain Loss: 0.338\n",
            "    \tTest:0.000\n",
            "    \tBest Test Loss: 0.0000\n"
          ]
        },
        {
          "output_type": "stream",
          "name": "stderr",
          "text": [
            "100%|██████████| 897/897 [00:44<00:00, 20.01it/s]\n",
            "Epoch :  46%|████▌     | 46/100 [34:27<40:32, 45.04s/it]"
          ]
        },
        {
          "output_type": "stream",
          "name": "stdout",
          "text": [
            "46/100 (2067.77s - 2472.33s remaining)\n",
            "Epoch: 046    \tTrain Loss: 0.333\n",
            "    \tTest:0.000\n",
            "    \tBest Test Loss: 0.0000\n"
          ]
        },
        {
          "output_type": "stream",
          "name": "stderr",
          "text": [
            "100%|██████████| 897/897 [00:45<00:00, 19.93it/s]\n",
            "Epoch :  47%|████▋     | 47/100 [35:12<39:47, 45.04s/it]"
          ]
        },
        {
          "output_type": "stream",
          "name": "stdout",
          "text": [
            "47/100 (2112.80s - 2427.47s remaining)\n",
            "Epoch: 047    \tTrain Loss: 0.327\n",
            "    \tTest:0.000\n",
            "    \tBest Test Loss: 0.0000\n"
          ]
        },
        {
          "output_type": "stream",
          "name": "stderr",
          "text": [
            "100%|██████████| 897/897 [00:44<00:00, 20.01it/s]\n",
            "Epoch :  48%|████▊     | 48/100 [35:57<38:59, 44.98s/it]"
          ]
        },
        {
          "output_type": "stream",
          "name": "stdout",
          "text": [
            "48/100 (2157.64s - 2382.40s remaining)\n",
            "Epoch: 048    \tTrain Loss: 0.322\n",
            "    \tTest:0.000\n",
            "    \tBest Test Loss: 0.0000\n"
          ]
        },
        {
          "output_type": "stream",
          "name": "stderr",
          "text": [
            "100%|██████████| 897/897 [00:44<00:00, 20.01it/s]\n",
            "Epoch :  49%|████▉     | 49/100 [36:42<38:12, 44.94s/it]"
          ]
        },
        {
          "output_type": "stream",
          "name": "stdout",
          "text": [
            "49/100 (2202.50s - 2337.34s remaining)\n",
            "Epoch: 049    \tTrain Loss: 0.312\n",
            "    \tTest:0.000\n",
            "    \tBest Test Loss: 0.0000\n"
          ]
        },
        {
          "output_type": "stream",
          "name": "stderr",
          "text": [
            "100%|██████████| 897/897 [00:44<00:00, 19.98it/s]\n",
            "Epoch :  50%|█████     | 50/100 [37:27<37:26, 44.94s/it]"
          ]
        },
        {
          "output_type": "stream",
          "name": "stdout",
          "text": [
            "50/100 (2247.42s - 2292.37s remaining)\n",
            "Epoch: 050    \tTrain Loss: 0.311\n",
            "    \tTest:0.000\n",
            "    \tBest Test Loss: 0.0000\n"
          ]
        },
        {
          "output_type": "stream",
          "name": "stderr",
          "text": [
            "100%|██████████| 897/897 [00:45<00:00, 19.76it/s]\n",
            "Epoch :  51%|█████     | 51/100 [38:12<36:48, 45.07s/it]"
          ]
        },
        {
          "output_type": "stream",
          "name": "stdout",
          "text": [
            "51/100 (2292.82s - 2247.86s remaining)\n",
            "Epoch: 051    \tTrain Loss: 0.304\n",
            "    \tTest:0.000\n",
            "    \tBest Test Loss: 0.0000\n"
          ]
        },
        {
          "output_type": "stream",
          "name": "stderr",
          "text": [
            "100%|██████████| 897/897 [00:44<00:00, 20.07it/s]\n",
            "Epoch :  52%|█████▏    | 52/100 [38:57<35:58, 44.96s/it]"
          ]
        },
        {
          "output_type": "stream",
          "name": "stdout",
          "text": [
            "52/100 (2337.52s - 2202.66s remaining)\n",
            "Epoch: 052    \tTrain Loss: 0.294\n",
            "    \tTest:0.000\n",
            "    \tBest Test Loss: 0.0000\n"
          ]
        },
        {
          "output_type": "stream",
          "name": "stderr",
          "text": [
            "100%|██████████| 897/897 [00:44<00:00, 20.10it/s]\n",
            "Epoch :  53%|█████▎    | 53/100 [39:42<35:08, 44.87s/it]"
          ]
        },
        {
          "output_type": "stream",
          "name": "stdout",
          "text": [
            "53/100 (2382.16s - 2157.43s remaining)\n",
            "Epoch: 053    \tTrain Loss: 0.287\n",
            "    \tTest:0.000\n",
            "    \tBest Test Loss: 0.0000\n"
          ]
        },
        {
          "output_type": "stream",
          "name": "stderr",
          "text": [
            "100%|██████████| 897/897 [00:44<00:00, 20.07it/s]\n",
            "Epoch :  54%|█████▍    | 54/100 [40:26<34:21, 44.82s/it]"
          ]
        },
        {
          "output_type": "stream",
          "name": "stdout",
          "text": [
            "54/100 (2426.86s - 2112.27s remaining)\n",
            "Epoch: 054    \tTrain Loss: 0.281\n",
            "    \tTest:0.000\n",
            "    \tBest Test Loss: 0.0000\n"
          ]
        },
        {
          "output_type": "stream",
          "name": "stderr",
          "text": [
            "100%|██████████| 897/897 [00:44<00:00, 20.14it/s]\n",
            "Epoch :  55%|█████▌    | 55/100 [41:11<33:32, 44.73s/it]"
          ]
        },
        {
          "output_type": "stream",
          "name": "stdout",
          "text": [
            "55/100 (2471.40s - 2066.99s remaining)\n",
            "Epoch: 055    \tTrain Loss: 0.272\n",
            "    \tTest:0.000\n",
            "    \tBest Test Loss: 0.0000\n"
          ]
        },
        {
          "output_type": "stream",
          "name": "stderr",
          "text": [
            "100%|██████████| 897/897 [00:44<00:00, 20.12it/s]\n",
            "Epoch :  56%|█████▌    | 56/100 [41:55<32:46, 44.69s/it]"
          ]
        },
        {
          "output_type": "stream",
          "name": "stdout",
          "text": [
            "56/100 (2516.00s - 2021.78s remaining)\n",
            "Epoch: 056    \tTrain Loss: 0.261\n",
            "    \tTest:0.000\n",
            "    \tBest Test Loss: 0.0000\n"
          ]
        },
        {
          "output_type": "stream",
          "name": "stderr",
          "text": [
            "100%|██████████| 897/897 [00:44<00:00, 20.06it/s]\n",
            "Epoch :  57%|█████▋    | 57/100 [42:40<32:02, 44.70s/it]"
          ]
        },
        {
          "output_type": "stream",
          "name": "stdout",
          "text": [
            "57/100 (2560.73s - 1976.70s remaining)\n",
            "Epoch: 057    \tTrain Loss: 0.269\n",
            "    \tTest:0.000\n",
            "    \tBest Test Loss: 0.0000\n"
          ]
        },
        {
          "output_type": "stream",
          "name": "stderr",
          "text": [
            "100%|██████████| 897/897 [00:44<00:00, 20.08it/s]\n",
            "Epoch :  58%|█████▊    | 58/100 [43:25<31:17, 44.70s/it]"
          ]
        },
        {
          "output_type": "stream",
          "name": "stdout",
          "text": [
            "58/100 (2605.41s - 1931.60s remaining)\n",
            "Epoch: 058    \tTrain Loss: 0.261\n",
            "    \tTest:0.000\n",
            "    \tBest Test Loss: 0.0000\n"
          ]
        },
        {
          "output_type": "stream",
          "name": "stderr",
          "text": [
            "100%|██████████| 897/897 [00:44<00:00, 20.17it/s]\n",
            "Epoch :  59%|█████▉    | 59/100 [44:09<30:30, 44.63s/it]"
          ]
        },
        {
          "output_type": "stream",
          "name": "stdout",
          "text": [
            "59/100 (2649.90s - 1886.37s remaining)\n",
            "Epoch: 059    \tTrain Loss: 0.254\n",
            "    \tTest:0.000\n",
            "    \tBest Test Loss: 0.0000\n"
          ]
        },
        {
          "output_type": "stream",
          "name": "stderr",
          "text": [
            "100%|██████████| 897/897 [00:44<00:00, 20.11it/s]\n",
            "Epoch :  60%|██████    | 60/100 [44:54<29:45, 44.63s/it]"
          ]
        },
        {
          "output_type": "stream",
          "name": "stdout",
          "text": [
            "60/100 (2694.51s - 1841.25s remaining)\n",
            "Epoch: 060    \tTrain Loss: 0.252\n",
            "    \tTest:0.000\n",
            "    \tBest Test Loss: 0.0000\n"
          ]
        },
        {
          "output_type": "stream",
          "name": "stderr",
          "text": [
            "100%|██████████| 897/897 [00:44<00:00, 20.13it/s]\n",
            "Epoch :  61%|██████    | 61/100 [45:39<28:59, 44.61s/it]"
          ]
        },
        {
          "output_type": "stream",
          "name": "stdout",
          "text": [
            "61/100 (2739.09s - 1796.12s remaining)\n",
            "Epoch: 061    \tTrain Loss: 0.245\n",
            "    \tTest:0.000\n",
            "    \tBest Test Loss: 0.0000\n"
          ]
        },
        {
          "output_type": "stream",
          "name": "stderr",
          "text": [
            "100%|██████████| 897/897 [00:44<00:00, 20.11it/s]\n",
            "Epoch :  62%|██████▏   | 62/100 [46:23<28:15, 44.62s/it]"
          ]
        },
        {
          "output_type": "stream",
          "name": "stdout",
          "text": [
            "62/100 (2783.72s - 1751.05s remaining)\n",
            "Epoch: 062    \tTrain Loss: 0.242\n",
            "    \tTest:0.000\n",
            "    \tBest Test Loss: 0.0000\n"
          ]
        },
        {
          "output_type": "stream",
          "name": "stderr",
          "text": [
            "100%|██████████| 897/897 [00:44<00:00, 20.07it/s]\n",
            "Epoch :  63%|██████▎   | 63/100 [47:08<27:31, 44.65s/it]"
          ]
        },
        {
          "output_type": "stream",
          "name": "stdout",
          "text": [
            "63/100 (2828.43s - 1706.04s remaining)\n",
            "Epoch: 063    \tTrain Loss: 0.247\n",
            "    \tTest:0.000\n",
            "    \tBest Test Loss: 0.0000\n"
          ]
        },
        {
          "output_type": "stream",
          "name": "stderr",
          "text": [
            "100%|██████████| 897/897 [00:45<00:00, 19.90it/s]\n",
            "Epoch :  64%|██████▍   | 64/100 [47:53<26:52, 44.78s/it]"
          ]
        },
        {
          "output_type": "stream",
          "name": "stdout",
          "text": [
            "64/100 (2873.53s - 1661.26s remaining)\n",
            "Epoch: 064    \tTrain Loss: 0.230\n",
            "    \tTest:0.000\n",
            "    \tBest Test Loss: 0.0000\n"
          ]
        },
        {
          "output_type": "stream",
          "name": "stderr",
          "text": [
            "100%|██████████| 897/897 [00:44<00:00, 20.01it/s]\n",
            "Epoch :  65%|██████▌   | 65/100 [48:38<26:07, 44.80s/it]"
          ]
        },
        {
          "output_type": "stream",
          "name": "stdout",
          "text": [
            "65/100 (2918.36s - 1616.32s remaining)\n",
            "Epoch: 065    \tTrain Loss: 0.232\n",
            "    \tTest:0.000\n",
            "    \tBest Test Loss: 0.0000\n"
          ]
        },
        {
          "output_type": "stream",
          "name": "stderr",
          "text": [
            "100%|██████████| 897/897 [00:44<00:00, 20.15it/s]\n",
            "Epoch :  66%|██████▌   | 66/100 [49:22<25:20, 44.71s/it]"
          ]
        },
        {
          "output_type": "stream",
          "name": "stdout",
          "text": [
            "66/100 (2962.88s - 1571.23s remaining)\n",
            "Epoch: 066    \tTrain Loss: 0.225\n",
            "    \tTest:0.000\n",
            "    \tBest Test Loss: 0.0000\n"
          ]
        },
        {
          "output_type": "stream",
          "name": "stderr",
          "text": [
            "100%|██████████| 897/897 [00:44<00:00, 20.13it/s]\n",
            "Epoch :  67%|██████▋   | 67/100 [50:07<24:34, 44.67s/it]"
          ]
        },
        {
          "output_type": "stream",
          "name": "stdout",
          "text": [
            "67/100 (3007.46s - 1526.17s remaining)\n",
            "Epoch: 067    \tTrain Loss: 0.225\n",
            "    \tTest:0.000\n",
            "    \tBest Test Loss: 0.0000\n"
          ]
        },
        {
          "output_type": "stream",
          "name": "stderr",
          "text": [
            "100%|██████████| 897/897 [00:45<00:00, 19.93it/s]\n",
            "Epoch :  68%|██████▊   | 68/100 [50:52<23:52, 44.78s/it]"
          ]
        },
        {
          "output_type": "stream",
          "name": "stdout",
          "text": [
            "68/100 (3052.48s - 1481.35s remaining)\n",
            "Epoch: 068    \tTrain Loss: 0.217\n",
            "    \tTest:0.000\n",
            "    \tBest Test Loss: 0.0000\n"
          ]
        },
        {
          "output_type": "stream",
          "name": "stderr",
          "text": [
            "100%|██████████| 897/897 [00:44<00:00, 20.00it/s]\n",
            "Epoch :  69%|██████▉   | 69/100 [51:37<23:08, 44.80s/it]"
          ]
        },
        {
          "output_type": "stream",
          "name": "stdout",
          "text": [
            "69/100 (3097.34s - 1436.45s remaining)\n",
            "Epoch: 069    \tTrain Loss: 0.223\n",
            "    \tTest:0.000\n",
            "    \tBest Test Loss: 0.0000\n"
          ]
        },
        {
          "output_type": "stream",
          "name": "stderr",
          "text": [
            "100%|██████████| 897/897 [00:45<00:00, 19.92it/s]\n",
            "Epoch :  70%|███████   | 70/100 [52:22<22:26, 44.88s/it]"
          ]
        },
        {
          "output_type": "stream",
          "name": "stdout",
          "text": [
            "70/100 (3142.38s - 1391.63s remaining)\n",
            "Epoch: 070    \tTrain Loss: 0.223\n",
            "    \tTest:0.000\n",
            "    \tBest Test Loss: 0.0000\n"
          ]
        },
        {
          "output_type": "stream",
          "name": "stderr",
          "text": [
            "100%|██████████| 897/897 [00:44<00:00, 20.00it/s]\n",
            "Epoch :  71%|███████   | 71/100 [53:07<21:41, 44.88s/it]"
          ]
        },
        {
          "output_type": "stream",
          "name": "stdout",
          "text": [
            "71/100 (3187.26s - 1346.73s remaining)\n",
            "Epoch: 071    \tTrain Loss: 0.207\n",
            "    \tTest:0.000\n",
            "    \tBest Test Loss: 0.0000\n"
          ]
        },
        {
          "output_type": "stream",
          "name": "stderr",
          "text": [
            "100%|██████████| 897/897 [00:44<00:00, 20.06it/s]\n",
            "Epoch :  72%|███████▏  | 72/100 [53:51<20:55, 44.83s/it]"
          ]
        },
        {
          "output_type": "stream",
          "name": "stdout",
          "text": [
            "72/100 (3231.99s - 1301.77s remaining)\n",
            "Epoch: 072    \tTrain Loss: 0.216\n",
            "    \tTest:0.000\n",
            "    \tBest Test Loss: 0.0000\n"
          ]
        },
        {
          "output_type": "stream",
          "name": "stderr",
          "text": [
            "100%|██████████| 897/897 [00:46<00:00, 19.38it/s]\n",
            "Epoch :  73%|███████▎  | 73/100 [54:38<20:22, 45.27s/it]"
          ]
        },
        {
          "output_type": "stream",
          "name": "stdout",
          "text": [
            "73/100 (3278.29s - 1257.43s remaining)\n",
            "Epoch: 073    \tTrain Loss: 0.207\n",
            "    \tTest:0.000\n",
            "    \tBest Test Loss: 0.0000\n"
          ]
        },
        {
          "output_type": "stream",
          "name": "stderr",
          "text": [
            "100%|██████████| 897/897 [00:44<00:00, 20.08it/s]\n",
            "Epoch :  74%|███████▍  | 74/100 [55:22<19:32, 45.10s/it]"
          ]
        },
        {
          "output_type": "stream",
          "name": "stdout",
          "text": [
            "74/100 (3322.99s - 1212.44s remaining)\n",
            "Epoch: 074    \tTrain Loss: 0.201\n",
            "    \tTest:0.000\n",
            "    \tBest Test Loss: 0.0000\n"
          ]
        },
        {
          "output_type": "stream",
          "name": "stderr",
          "text": [
            "100%|██████████| 897/897 [00:45<00:00, 19.83it/s]\n",
            "Epoch :  75%|███████▌  | 75/100 [56:08<18:48, 45.15s/it]"
          ]
        },
        {
          "output_type": "stream",
          "name": "stdout",
          "text": [
            "75/100 (3368.25s - 1167.66s remaining)\n",
            "Epoch: 075    \tTrain Loss: 0.205\n",
            "    \tTest:0.000\n",
            "    \tBest Test Loss: 0.0000\n"
          ]
        },
        {
          "output_type": "stream",
          "name": "stderr",
          "text": [
            "100%|██████████| 897/897 [00:44<00:00, 20.16it/s]\n",
            "Epoch :  76%|███████▌  | 76/100 [56:52<17:59, 44.96s/it]"
          ]
        },
        {
          "output_type": "stream",
          "name": "stdout",
          "text": [
            "76/100 (3412.77s - 1122.62s remaining)\n",
            "Epoch: 076    \tTrain Loss: 0.203\n",
            "    \tTest:0.000\n",
            "    \tBest Test Loss: 0.0000\n"
          ]
        },
        {
          "output_type": "stream",
          "name": "stderr",
          "text": [
            "100%|██████████| 897/897 [00:44<00:00, 20.10it/s]\n",
            "Epoch :  77%|███████▋  | 77/100 [57:37<17:11, 44.86s/it]"
          ]
        },
        {
          "output_type": "stream",
          "name": "stdout",
          "text": [
            "77/100 (3457.41s - 1077.63s remaining)\n",
            "Epoch: 077    \tTrain Loss: 0.194\n",
            "    \tTest:0.000\n",
            "    \tBest Test Loss: 0.0000\n"
          ]
        },
        {
          "output_type": "stream",
          "name": "stderr",
          "text": [
            "100%|██████████| 897/897 [00:44<00:00, 20.10it/s]\n",
            "Epoch :  78%|███████▊  | 78/100 [58:22<16:25, 44.80s/it]"
          ]
        },
        {
          "output_type": "stream",
          "name": "stdout",
          "text": [
            "78/100 (3502.05s - 1032.65s remaining)\n",
            "Epoch: 078    \tTrain Loss: 0.199\n",
            "    \tTest:0.000\n",
            "    \tBest Test Loss: 0.0000\n"
          ]
        },
        {
          "output_type": "stream",
          "name": "stderr",
          "text": [
            "100%|██████████| 897/897 [00:44<00:00, 20.13it/s]\n",
            "Epoch :  79%|███████▉  | 79/100 [59:06<15:39, 44.73s/it]"
          ]
        },
        {
          "output_type": "stream",
          "name": "stdout",
          "text": [
            "79/100 (3546.62s - 987.67s remaining)\n",
            "Epoch: 079    \tTrain Loss: 0.195\n",
            "    \tTest:0.000\n",
            "    \tBest Test Loss: 0.0000\n"
          ]
        },
        {
          "output_type": "stream",
          "name": "stderr",
          "text": [
            "100%|██████████| 897/897 [00:44<00:00, 20.10it/s]\n",
            "Epoch :  80%|████████  | 80/100 [59:51<14:54, 44.70s/it]"
          ]
        },
        {
          "output_type": "stream",
          "name": "stdout",
          "text": [
            "80/100 (3591.25s - 942.70s remaining)\n",
            "Epoch: 080    \tTrain Loss: 0.187\n",
            "    \tTest:0.000\n",
            "    \tBest Test Loss: 0.0000\n"
          ]
        },
        {
          "output_type": "stream",
          "name": "stderr",
          "text": [
            "100%|██████████| 897/897 [00:45<00:00, 19.78it/s]\n",
            "Epoch :  81%|████████  | 81/100 [1:00:36<14:13, 44.90s/it]"
          ]
        },
        {
          "output_type": "stream",
          "name": "stdout",
          "text": [
            "81/100 (3636.62s - 897.93s remaining)\n",
            "Epoch: 081    \tTrain Loss: 0.183\n",
            "    \tTest:0.000\n",
            "    \tBest Test Loss: 0.0000\n"
          ]
        },
        {
          "output_type": "stream",
          "name": "stderr",
          "text": [
            "100%|██████████| 897/897 [00:44<00:00, 20.08it/s]\n",
            "Epoch :  82%|████████▏ | 82/100 [1:01:21<13:27, 44.84s/it]"
          ]
        },
        {
          "output_type": "stream",
          "name": "stdout",
          "text": [
            "82/100 (3681.31s - 852.99s remaining)\n",
            "Epoch: 082    \tTrain Loss: 0.177\n",
            "    \tTest:0.000\n",
            "    \tBest Test Loss: 0.0000\n"
          ]
        },
        {
          "output_type": "stream",
          "name": "stderr",
          "text": [
            "100%|██████████| 897/897 [00:44<00:00, 20.15it/s]\n",
            "Epoch :  83%|████████▎ | 83/100 [1:02:05<12:40, 44.74s/it]"
          ]
        },
        {
          "output_type": "stream",
          "name": "stdout",
          "text": [
            "83/100 (3725.83s - 808.01s remaining)\n",
            "Epoch: 083    \tTrain Loss: 0.189\n",
            "    \tTest:0.000\n",
            "    \tBest Test Loss: 0.0000\n"
          ]
        },
        {
          "output_type": "stream",
          "name": "stderr",
          "text": [
            "100%|██████████| 897/897 [00:44<00:00, 19.97it/s]\n",
            "Epoch :  84%|████████▍ | 84/100 [1:02:50<11:56, 44.80s/it]"
          ]
        },
        {
          "output_type": "stream",
          "name": "stdout",
          "text": [
            "84/100 (3770.75s - 763.13s remaining)\n",
            "Epoch: 084    \tTrain Loss: 0.181\n",
            "    \tTest:0.000\n",
            "    \tBest Test Loss: 0.0000\n"
          ]
        },
        {
          "output_type": "stream",
          "name": "stderr",
          "text": [
            "100%|██████████| 897/897 [00:45<00:00, 19.75it/s]\n",
            "Epoch :  85%|████████▌ | 85/100 [1:03:36<11:14, 44.99s/it]"
          ]
        },
        {
          "output_type": "stream",
          "name": "stdout",
          "text": [
            "85/100 (3816.18s - 718.34s remaining)\n",
            "Epoch: 085    \tTrain Loss: 0.180\n",
            "    \tTest:0.000\n",
            "    \tBest Test Loss: 0.0000\n"
          ]
        },
        {
          "output_type": "stream",
          "name": "stderr",
          "text": [
            "100%|██████████| 897/897 [00:45<00:00, 19.88it/s]\n",
            "Epoch :  86%|████████▌ | 86/100 [1:04:21<10:30, 45.03s/it]"
          ]
        },
        {
          "output_type": "stream",
          "name": "stdout",
          "text": [
            "86/100 (3861.33s - 673.49s remaining)\n",
            "Epoch: 086    \tTrain Loss: 0.184\n",
            "    \tTest:0.000\n",
            "    \tBest Test Loss: 0.0000\n"
          ]
        },
        {
          "output_type": "stream",
          "name": "stderr",
          "text": [
            "100%|██████████| 897/897 [00:45<00:00, 19.86it/s]\n",
            "Epoch :  87%|████████▋ | 87/100 [1:05:06<09:46, 45.08s/it]"
          ]
        },
        {
          "output_type": "stream",
          "name": "stdout",
          "text": [
            "87/100 (3906.51s - 628.63s remaining)\n",
            "Epoch: 087    \tTrain Loss: 0.172\n",
            "    \tTest:0.000\n",
            "    \tBest Test Loss: 0.0000\n"
          ]
        },
        {
          "output_type": "stream",
          "name": "stderr",
          "text": [
            "100%|██████████| 897/897 [00:45<00:00, 19.71it/s]\n",
            "Epoch :  88%|████████▊ | 88/100 [1:05:52<09:02, 45.21s/it]"
          ]
        },
        {
          "output_type": "stream",
          "name": "stdout",
          "text": [
            "88/100 (3952.03s - 583.82s remaining)\n",
            "Epoch: 088    \tTrain Loss: 0.182\n",
            "    \tTest:0.000\n",
            "    \tBest Test Loss: 0.0000\n"
          ]
        },
        {
          "output_type": "stream",
          "name": "stderr",
          "text": [
            "100%|██████████| 897/897 [00:45<00:00, 19.85it/s]\n",
            "Epoch :  89%|████████▉ | 89/100 [1:06:37<08:17, 45.21s/it]"
          ]
        },
        {
          "output_type": "stream",
          "name": "stdout",
          "text": [
            "89/100 (3997.24s - 538.95s remaining)\n",
            "Epoch: 089    \tTrain Loss: 0.173\n",
            "    \tTest:0.000\n",
            "    \tBest Test Loss: 0.0000\n"
          ]
        },
        {
          "output_type": "stream",
          "name": "stderr",
          "text": [
            "100%|██████████| 897/897 [00:45<00:00, 19.76it/s]\n",
            "Epoch :  90%|█████████ | 90/100 [1:07:22<07:32, 45.27s/it]"
          ]
        },
        {
          "output_type": "stream",
          "name": "stdout",
          "text": [
            "90/100 (4042.65s - 494.10s remaining)\n",
            "Epoch: 090    \tTrain Loss: 0.172\n",
            "    \tTest:0.000\n",
            "    \tBest Test Loss: 0.0000\n"
          ]
        },
        {
          "output_type": "stream",
          "name": "stderr",
          "text": [
            "100%|██████████| 897/897 [00:45<00:00, 19.82it/s]\n",
            "Epoch :  91%|█████████ | 91/100 [1:08:07<06:47, 45.27s/it]"
          ]
        },
        {
          "output_type": "stream",
          "name": "stdout",
          "text": [
            "91/100 (4087.91s - 449.22s remaining)\n",
            "Epoch: 091    \tTrain Loss: 0.165\n",
            "    \tTest:0.000\n",
            "    \tBest Test Loss: 0.0000\n"
          ]
        },
        {
          "output_type": "stream",
          "name": "stderr",
          "text": [
            "100%|██████████| 897/897 [00:45<00:00, 19.88it/s]\n",
            "Epoch :  92%|█████████▏| 92/100 [1:08:53<06:01, 45.23s/it]"
          ]
        },
        {
          "output_type": "stream",
          "name": "stdout",
          "text": [
            "92/100 (4133.04s - 404.32s remaining)\n",
            "Epoch: 092    \tTrain Loss: 0.164\n",
            "    \tTest:0.000\n",
            "    \tBest Test Loss: 0.0000\n"
          ]
        },
        {
          "output_type": "stream",
          "name": "stderr",
          "text": [
            "100%|██████████| 897/897 [00:45<00:00, 19.87it/s]\n",
            "Epoch :  93%|█████████▎| 93/100 [1:09:38<05:16, 45.20s/it]"
          ]
        },
        {
          "output_type": "stream",
          "name": "stdout",
          "text": [
            "93/100 (4178.19s - 359.41s remaining)\n",
            "Epoch: 093    \tTrain Loss: 0.158\n",
            "    \tTest:0.000\n",
            "    \tBest Test Loss: 0.0000\n"
          ]
        },
        {
          "output_type": "stream",
          "name": "stderr",
          "text": [
            "100%|██████████| 897/897 [00:44<00:00, 19.97it/s]\n",
            "Epoch :  94%|█████████▍| 94/100 [1:10:23<04:30, 45.13s/it]"
          ]
        },
        {
          "output_type": "stream",
          "name": "stdout",
          "text": [
            "94/100 (4223.14s - 314.49s remaining)\n",
            "Epoch: 094    \tTrain Loss: 0.167\n",
            "    \tTest:0.000\n",
            "    \tBest Test Loss: 0.0000\n"
          ]
        },
        {
          "output_type": "stream",
          "name": "stderr",
          "text": [
            "100%|██████████| 897/897 [00:45<00:00, 19.90it/s]\n",
            "Epoch :  95%|█████████▌| 95/100 [1:11:08<03:45, 45.11s/it]"
          ]
        },
        {
          "output_type": "stream",
          "name": "stdout",
          "text": [
            "95/100 (4268.22s - 269.57s remaining)\n",
            "Epoch: 095    \tTrain Loss: 0.162\n",
            "    \tTest:0.000\n",
            "    \tBest Test Loss: 0.0000\n"
          ]
        },
        {
          "output_type": "stream",
          "name": "stderr",
          "text": [
            "100%|██████████| 897/897 [00:45<00:00, 19.82it/s]\n",
            "Epoch :  96%|█████████▌| 96/100 [1:11:53<03:00, 45.16s/it]"
          ]
        },
        {
          "output_type": "stream",
          "name": "stdout",
          "text": [
            "96/100 (4313.48s - 224.66s remaining)\n",
            "Epoch: 096    \tTrain Loss: 0.162\n",
            "    \tTest:0.000\n",
            "    \tBest Test Loss: 0.0000\n"
          ]
        },
        {
          "output_type": "stream",
          "name": "stderr",
          "text": [
            "100%|██████████| 897/897 [00:45<00:00, 19.81it/s]\n",
            "Epoch :  97%|█████████▋| 97/100 [1:12:38<02:15, 45.20s/it]"
          ]
        },
        {
          "output_type": "stream",
          "name": "stdout",
          "text": [
            "97/100 (4358.78s - 179.74s remaining)\n",
            "Epoch: 097    \tTrain Loss: 0.160\n",
            "    \tTest:0.000\n",
            "    \tBest Test Loss: 0.0000\n"
          ]
        },
        {
          "output_type": "stream",
          "name": "stderr",
          "text": [
            "100%|██████████| 897/897 [00:44<00:00, 19.99it/s]\n",
            "Epoch :  98%|█████████▊| 98/100 [1:13:23<01:30, 45.10s/it]"
          ]
        },
        {
          "output_type": "stream",
          "name": "stdout",
          "text": [
            "98/100 (4403.65s - 134.81s remaining)\n",
            "Epoch: 098    \tTrain Loss: 0.151\n",
            "    \tTest:0.000\n",
            "    \tBest Test Loss: 0.0000\n"
          ]
        },
        {
          "output_type": "stream",
          "name": "stderr",
          "text": [
            "100%|██████████| 897/897 [00:45<00:00, 19.90it/s]\n",
            "Epoch :  99%|█████████▉| 99/100 [1:14:08<00:45, 45.10s/it]"
          ]
        },
        {
          "output_type": "stream",
          "name": "stdout",
          "text": [
            "99/100 (4448.75s - 89.87s remaining)\n",
            "Epoch: 099    \tTrain Loss: 0.150\n",
            "    \tTest:0.000\n",
            "    \tBest Test Loss: 0.0000\n"
          ]
        },
        {
          "output_type": "stream",
          "name": "stderr",
          "text": [
            "100%|██████████| 897/897 [00:45<00:00, 19.93it/s]\n",
            "Epoch : 100%|██████████| 100/100 [1:14:53<00:00, 44.94s/it]"
          ]
        },
        {
          "output_type": "stream",
          "name": "stdout",
          "text": [
            "100/100 (4493.77s - 44.94s remaining)\n",
            "Epoch: 100    \tTrain Loss: 0.162\n",
            "    \tTest:0.000\n",
            "    \tBest Test Loss: 0.0000\n"
          ]
        },
        {
          "output_type": "stream",
          "name": "stderr",
          "text": [
            "\n"
          ]
        }
      ]
    },
    {
      "cell_type": "code",
      "source": [
        "torch.save(model.state_dict(), '/content/drive/MyDrive/Emotion_Prediction/model.pth')"
      ],
      "metadata": {
        "id": "kAaVLdhb5dcE"
      },
      "execution_count": null,
      "outputs": []
    },
    {
      "cell_type": "code",
      "source": [
        "epoch_train_loss"
      ],
      "metadata": {
        "colab": {
          "base_uri": "https://localhost:8080/"
        },
        "id": "qxPTIVMvD5wx",
        "outputId": "64e856a7-71fb-4b43-9eaf-633c745e796c"
      },
      "execution_count": null,
      "outputs": [
        {
          "output_type": "execute_result",
          "data": {
            "text/plain": [
              "0.1623768356837407"
            ]
          },
          "metadata": {},
          "execution_count": 29
        }
      ]
    },
    {
      "cell_type": "code",
      "source": [
        "# model()\n",
        "for i in trn:\n",
        "  model.eval()\n",
        "  imgs = torch.Tensor(i[0]).to(device)\n",
        "  imgs = imgs.view(-1,1,48,48)\n",
        "  print(model(imgs))\n",
        "  break"
      ],
      "metadata": {
        "colab": {
          "base_uri": "https://localhost:8080/"
        },
        "id": "d2bl8PK3BXEd",
        "outputId": "b6ba174e-1a02-4e37-8c96-36faef5f65a9"
      },
      "execution_count": null,
      "outputs": [
        {
          "output_type": "stream",
          "name": "stdout",
          "text": [
            "tensor([[6.3574, 0.0000, 0.0000, 0.0000, 0.0000, 5.8535, 0.9545]],\n",
            "       device='cuda:0', grad_fn=<ReluBackward0>)\n"
          ]
        }
      ]
    },
    {
      "cell_type": "code",
      "source": [
        "plt.imshow(i[0])"
      ],
      "metadata": {
        "colab": {
          "base_uri": "https://localhost:8080/",
          "height": 285
        },
        "id": "g9F0BFffDpbe",
        "outputId": "9c9c4063-56e7-4838-ee8c-6d7bd3a558a5"
      },
      "execution_count": null,
      "outputs": [
        {
          "output_type": "execute_result",
          "data": {
            "text/plain": [
              "<matplotlib.image.AxesImage at 0x7f4645d8ded0>"
            ]
          },
          "metadata": {},
          "execution_count": 27
        },
        {
          "output_type": "display_data",
          "data": {
            "text/plain": [
              "<Figure size 432x288 with 1 Axes>"
            ],
            "image/png": "[encoded data removed]"
          },
          "metadata": {
            "needs_background": "light"
          }
        }
      ]
    },
    {
      "cell_type": "code",
      "source": [
        "trn.label_dict"
      ],
      "metadata": {
        "colab": {
          "base_uri": "https://localhost:8080/"
        },
        "id": "JDRAo4OZBxYP",
        "outputId": "4f3e1fb4-f8f8-4249-ef61-94f5648e7fc6"
      },
      "execution_count": null,
      "outputs": [
        {
          "output_type": "execute_result",
          "data": {
            "text/plain": [
              "{'angry': 1,\n",
              " 'disgust': 3,\n",
              " 'fear': 4,\n",
              " 'happy': 5,\n",
              " 'neutral': 0,\n",
              " 'sad': 6,\n",
              " 'surprise': 2}"
            ]
          },
          "metadata": {},
          "execution_count": 25
        }
      ]
    },
    {
      "cell_type": "code",
      "source": [
        ""
      ],
      "metadata": {
        "id": "qodi4QVdC7Cz"
      },
      "execution_count": null,
      "outputs": []
    }
  ]
}